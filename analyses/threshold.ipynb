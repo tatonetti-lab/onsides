{
 "cells": [
  {
   "cell_type": "code",
   "execution_count": 1,
   "id": "fdcc8958-13dd-40a4-88cb-a4a622f18838",
   "metadata": {},
   "outputs": [],
   "source": [
    "import numpy as np\n",
    "import polars as pl\n",
    "import sklearn.metrics"
   ]
  },
  {
   "cell_type": "markdown",
   "id": "33a8c1d4-8518-449c-a798-4651243c2d17",
   "metadata": {},
   "source": [
    "# Load data"
   ]
  },
  {
   "cell_type": "code",
   "execution_count": 2,
   "id": "834ecaf8-5567-44e0-a316-14e8673317d6",
   "metadata": {},
   "outputs": [
    {
     "name": "stdout",
     "output_type": "stream",
     "text": [
      "(23062, 10)\n"
     ]
    },
    {
     "data": {
      "text/html": [
       "<div><style>\n",
       ".dataframe > thead > tr,\n",
       ".dataframe > tbody > tr {\n",
       "  text-align: right;\n",
       "  white-space: pre-wrap;\n",
       "}\n",
       "</style>\n",
       "<small>shape: (2, 10)</small><table border=\"1\" class=\"dataframe\"><thead><tr><th>section</th><th>drug</th><th>tac</th><th>meddra_id</th><th>pt_meddra_id</th><th>source_method</th><th>class</th><th>pt_meddra_term</th><th>found_term</th><th>string</th></tr><tr><td>str</td><td>str</td><td>str</td><td>i64</td><td>i64</td><td>str</td><td>i64</td><td>str</td><td>str</td><td>str</td></tr></thead><tbody><tr><td>&quot;AR&quot;</td><td>&quot;AMPYRA&quot;</td><td>&quot;train&quot;</td><td>10013573</td><td>10013573</td><td>&quot;exact&quot;</td><td>1</td><td>&quot;Dizziness&quot;</td><td>&quot;dizziness&quot;</td><td>&quot;dizziness exact at a rate grea…</td></tr><tr><td>&quot;AR&quot;</td><td>&quot;AMPYRA&quot;</td><td>&quot;train&quot;</td><td>10013573</td><td>10013573</td><td>&quot;exact&quot;</td><td>1</td><td>&quot;Dizziness&quot;</td><td>&quot;dizziness&quot;</td><td>&quot;dizziness exact compared to pl…</td></tr></tbody></table></div>"
      ],
      "text/plain": [
       "shape: (2, 10)\n",
       "┌─────────┬────────┬───────┬───────────┬───┬───────┬────────────────┬────────────┬─────────────────┐\n",
       "│ section ┆ drug   ┆ tac   ┆ meddra_id ┆ … ┆ class ┆ pt_meddra_term ┆ found_term ┆ string          │\n",
       "│ ---     ┆ ---    ┆ ---   ┆ ---       ┆   ┆ ---   ┆ ---            ┆ ---        ┆ ---             │\n",
       "│ str     ┆ str    ┆ str   ┆ i64       ┆   ┆ i64   ┆ str            ┆ str        ┆ str             │\n",
       "╞═════════╪════════╪═══════╪═══════════╪═══╪═══════╪════════════════╪════════════╪═════════════════╡\n",
       "│ AR      ┆ AMPYRA ┆ train ┆ 10013573  ┆ … ┆ 1     ┆ Dizziness      ┆ dizziness  ┆ dizziness exact │\n",
       "│         ┆        ┆       ┆           ┆   ┆       ┆                ┆            ┆ at a rate grea… │\n",
       "│ AR      ┆ AMPYRA ┆ train ┆ 10013573  ┆ … ┆ 1     ┆ Dizziness      ┆ dizziness  ┆ dizziness exact │\n",
       "│         ┆        ┆       ┆           ┆   ┆       ┆                ┆            ┆ compared to pl… │\n",
       "└─────────┴────────┴───────┴───────────┴───┴───────┴────────────────┴────────────┴─────────────────┘"
      ]
     },
     "execution_count": 2,
     "metadata": {},
     "output_type": "execute_result"
    }
   ],
   "source": [
    "val_df = (\n",
    "    pl.read_csv(\"../train/results/bestepoch-bydrug-PMB-valid_14-ALL-125-all_222_24_25_1e-06_256_32-full.csv\")\n",
    "    .with_columns(\n",
    "        pl.col(\"class\").map_elements({\"is_event\": 1, \"not_event\": 0}.get, return_dtype=int)\n",
    "    )\n",
    ")\n",
    "print(val_df.shape)\n",
    "val_df.head(2)"
   ]
  },
  {
   "cell_type": "code",
   "execution_count": 3,
   "id": "77116fe8-fc8f-41d8-8476-1f3e1f28eca2",
   "metadata": {},
   "outputs": [
    {
     "name": "stdout",
     "output_type": "stream",
     "text": [
      "(23062, 2)\n"
     ]
    },
    {
     "data": {
      "text/html": [
       "<div><style>\n",
       ".dataframe > thead > tr,\n",
       ".dataframe > tbody > tr {\n",
       "  text-align: right;\n",
       "  white-space: pre-wrap;\n",
       "}\n",
       "</style>\n",
       "<small>shape: (2, 2)</small><table border=\"1\" class=\"dataframe\"><thead><tr><th>pred0</th><th>pred1</th></tr><tr><td>f64</td><td>f64</td></tr></thead><tbody><tr><td>0.0</td><td>5.881886</td></tr><tr><td>0.0</td><td>5.932092</td></tr></tbody></table></div>"
      ],
      "text/plain": [
       "shape: (2, 2)\n",
       "┌───────┬──────────┐\n",
       "│ pred0 ┆ pred1    │\n",
       "│ ---   ┆ ---      │\n",
       "│ f64   ┆ f64      │\n",
       "╞═══════╪══════════╡\n",
       "│ 0.0   ┆ 5.881886 │\n",
       "│ 0.0   ┆ 5.932092 │\n",
       "└───────┴──────────┘"
      ]
     },
     "execution_count": 3,
     "metadata": {},
     "output_type": "execute_result"
    }
   ],
   "source": [
    "preds_df = (\n",
    "    pl.read_csv(\"../train/results/bestepoch-bydrug-PMB-valid_14-ALL-125-all_222_24_25_1e-06_256_32.csv\", has_header=False)\n",
    "    .rename({\"column_1\": \"pred0\", \"column_2\": \"pred1\"})\n",
    ")\n",
    "print(preds_df.shape)\n",
    "preds_df.head(2)"
   ]
  },
  {
   "cell_type": "code",
   "execution_count": 4,
   "id": "8c0667c3-704c-493c-886c-cc6ea79f01b1",
   "metadata": {},
   "outputs": [
    {
     "name": "stdout",
     "output_type": "stream",
     "text": [
      "(23062, 12)\n"
     ]
    },
    {
     "data": {
      "text/html": [
       "<div><style>\n",
       ".dataframe > thead > tr,\n",
       ".dataframe > tbody > tr {\n",
       "  text-align: right;\n",
       "  white-space: pre-wrap;\n",
       "}\n",
       "</style>\n",
       "<small>shape: (2, 12)</small><table border=\"1\" class=\"dataframe\"><thead><tr><th>section</th><th>drug</th><th>tac</th><th>meddra_id</th><th>pt_meddra_id</th><th>source_method</th><th>class</th><th>pt_meddra_term</th><th>found_term</th><th>string</th><th>pred0</th><th>pred1</th></tr><tr><td>str</td><td>str</td><td>str</td><td>i64</td><td>i64</td><td>str</td><td>i64</td><td>str</td><td>str</td><td>str</td><td>f64</td><td>f64</td></tr></thead><tbody><tr><td>&quot;AR&quot;</td><td>&quot;AMPYRA&quot;</td><td>&quot;train&quot;</td><td>10013573</td><td>10013573</td><td>&quot;exact&quot;</td><td>1</td><td>&quot;Dizziness&quot;</td><td>&quot;dizziness&quot;</td><td>&quot;dizziness exact at a rate grea…</td><td>0.0</td><td>5.881886</td></tr><tr><td>&quot;AR&quot;</td><td>&quot;AMPYRA&quot;</td><td>&quot;train&quot;</td><td>10013573</td><td>10013573</td><td>&quot;exact&quot;</td><td>1</td><td>&quot;Dizziness&quot;</td><td>&quot;dizziness&quot;</td><td>&quot;dizziness exact compared to pl…</td><td>0.0</td><td>5.932092</td></tr></tbody></table></div>"
      ],
      "text/plain": [
       "shape: (2, 12)\n",
       "┌─────────┬────────┬───────┬───────────┬───┬────────────┬───────────────────────┬───────┬──────────┐\n",
       "│ section ┆ drug   ┆ tac   ┆ meddra_id ┆ … ┆ found_term ┆ string                ┆ pred0 ┆ pred1    │\n",
       "│ ---     ┆ ---    ┆ ---   ┆ ---       ┆   ┆ ---        ┆ ---                   ┆ ---   ┆ ---      │\n",
       "│ str     ┆ str    ┆ str   ┆ i64       ┆   ┆ str        ┆ str                   ┆ f64   ┆ f64      │\n",
       "╞═════════╪════════╪═══════╪═══════════╪═══╪════════════╪═══════════════════════╪═══════╪══════════╡\n",
       "│ AR      ┆ AMPYRA ┆ train ┆ 10013573  ┆ … ┆ dizziness  ┆ dizziness exact at a  ┆ 0.0   ┆ 5.881886 │\n",
       "│         ┆        ┆       ┆           ┆   ┆            ┆ rate grea…            ┆       ┆          │\n",
       "│ AR      ┆ AMPYRA ┆ train ┆ 10013573  ┆ … ┆ dizziness  ┆ dizziness exact       ┆ 0.0   ┆ 5.932092 │\n",
       "│         ┆        ┆       ┆           ┆   ┆            ┆ compared to pl…       ┆       ┆          │\n",
       "└─────────┴────────┴───────┴───────────┴───┴────────────┴───────────────────────┴───────┴──────────┘"
      ]
     },
     "execution_count": 4,
     "metadata": {},
     "output_type": "execute_result"
    }
   ],
   "source": [
    "full_df = pl.concat([val_df, preds_df], how=\"horizontal\")\n",
    "print(full_df.shape)\n",
    "full_df.head(2)"
   ]
  },
  {
   "cell_type": "markdown",
   "id": "87ef2d1d-6c67-4c8f-8b60-f18348d0805e",
   "metadata": {},
   "source": [
    "# Evaluate and find the best threshold"
   ]
  },
  {
   "cell_type": "code",
   "execution_count": 5,
   "id": "2c6b6002-4aa2-446a-bfc2-c3b2f5807cd6",
   "metadata": {},
   "outputs": [],
   "source": [
    "def prdata(labels, preds, f1_threshold=None):\n",
    "    precision, recall, thresholds = sklearn.metrics.precision_recall_curve(labels, preds)\n",
    "    numerator = 2 * recall * precision\n",
    "    denom = recall + precision\n",
    "    f1_scores = np.divide(\n",
    "        numerator, denom, out=np.zeros_like(denom), where=(denom != 0)\n",
    "    )\n",
    "\n",
    "    if not f1_threshold is None:\n",
    "        max_f1 = f1_scores[np.argmin(np.abs(thresholds - f1_threshold))]\n",
    "        max_f1_precision = precision[np.argmin(np.abs(thresholds - f1_threshold))]\n",
    "        max_f1_recall = recall[np.argmin(np.abs(thresholds - f1_threshold))]\n",
    "        max_f1_thresh = f1_threshold\n",
    "    else:\n",
    "        max_f1_thresh = thresholds[np.argmax(f1_scores)]\n",
    "        max_f1 = np.max(f1_scores)\n",
    "        max_f1_precision = precision[np.argmax(f1_scores)]\n",
    "        max_f1_recall = recall[np.argmax(f1_scores)]\n",
    "\n",
    "    return {\n",
    "        \"precision\": precision,\n",
    "        \"recall\": recall,\n",
    "        \"max_f1\": max_f1,\n",
    "        \"max_f1_threshold\": max_f1_thresh,\n",
    "        \"max_f1_precision\": max_f1_precision,\n",
    "        \"max_f1_recall\": max_f1_recall,\n",
    "        \"pr_auc\": sklearn.metrics.auc(recall, precision),\n",
    "    }\n"
   ]
  },
  {
   "cell_type": "code",
   "execution_count": 6,
   "id": "b081374d-1d8c-4fc0-9ee4-e4bf0ea7930f",
   "metadata": {},
   "outputs": [
    {
     "data": {
      "text/plain": [
       "{'precision': array([0.1439164 , 0.47467811, 0.47474603, ..., 1.        , 1.        ,\n",
       "        1.        ], shape=(6989,)),\n",
       " 'recall': array([1.00000000e+00, 9.99698704e-01, 9.99698704e-01, ...,\n",
       "        6.02591142e-04, 3.01295571e-04, 0.00000000e+00], shape=(6989,)),\n",
       " 'max_f1': np.float64(0.9174005466140298),\n",
       " 'max_f1_threshold': np.float64(3.2583718299865723),\n",
       " 'max_f1_precision': np.float64(0.9247015610651974),\n",
       " 'max_f1_recall': np.float64(0.9102139198553781),\n",
       " 'pr_auc': np.float64(0.9763298280707404)}"
      ]
     },
     "execution_count": 6,
     "metadata": {},
     "output_type": "execute_result"
    }
   ],
   "source": [
    "performance_data = prdata(labels=full_df[\"class\"].to_numpy(), preds=full_df[\"pred1\"].to_numpy())\n",
    "\n",
    "performance_data"
   ]
  },
  {
   "cell_type": "code",
   "execution_count": 7,
   "id": "49445112-01b4-4fca-879c-bd225425c273",
   "metadata": {},
   "outputs": [
    {
     "data": {
      "text/plain": [
       "np.float64(3.2583718299865723)"
      ]
     },
     "execution_count": 7,
     "metadata": {},
     "output_type": "execute_result"
    }
   ],
   "source": [
    "performance_data[\"max_f1_threshold\"]"
   ]
  }
 ],
 "metadata": {
  "kernelspec": {
   "display_name": "Python 3 (ipykernel)",
   "language": "python",
   "name": "python3"
  },
  "language_info": {
   "codemirror_mode": {
    "name": "ipython",
    "version": 3
   },
   "file_extension": ".py",
   "mimetype": "text/x-python",
   "name": "python",
   "nbconvert_exporter": "python",
   "pygments_lexer": "ipython3",
   "version": "3.12.5"
  }
 },
 "nbformat": 4,
 "nbformat_minor": 5
}
