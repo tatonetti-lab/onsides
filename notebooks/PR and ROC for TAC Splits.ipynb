{
 "cells": [
  {
   "cell_type": "code",
   "execution_count": null,
   "metadata": {},
   "outputs": [],
   "source": [
    "## evaluation of AU ROC, PR ROC, F1 scores to determine the optimal threshold"
   ]
  },
  {
   "cell_type": "code",
   "execution_count": 1,
   "metadata": {},
   "outputs": [],
   "source": [
    "import os\n",
    "import csv\n",
    "import sys\n",
    "import json\n",
    "import random\n",
    "import pandas as pd\n",
    "import numpy as np\n",
    "\n",
    "import seaborn as sns\n",
    "import matplotlib.pyplot as plt\n",
    "\n",
    "from sklearn import metrics\n",
    "from sklearn.metrics import roc_auc_score\n",
    "\n",
    "from collections import defaultdict\n",
    "\n",
    "%matplotlib inline"
   ]
  },
  {
   "cell_type": "code",
   "execution_count": 3,
   "metadata": {},
   "outputs": [],
   "source": [
    "sys.path.append('../src')\n",
    "import plot_helpers as ph\n",
    "pd.set_option('display.precision', 3)"
   ]
  },
  {
   "cell_type": "code",
   "execution_count": 4,
   "metadata": {},
   "outputs": [],
   "source": [
    "perfdata = defaultdict(lambda: defaultdict(list))\n",
    "\n",
    "factor_labels = list()"
   ]
  },
  {
   "cell_type": "code",
   "execution_count": 5,
   "metadata": {},
   "outputs": [
    {
     "ename": "FileNotFoundError",
     "evalue": "File b'..\\\\grouped-mean-bestepoch-bydrug-CB_8-AR-125_222_24_10_1e-06_256_32.csv' does not exist",
     "output_type": "error",
     "traceback": [
      "\u001b[1;31m---------------------------------------------------------------------------\u001b[0m",
      "\u001b[1;31mFileNotFoundError\u001b[0m                         Traceback (most recent call last)",
      "\u001b[1;32m<ipython-input-5-7bb3970479dd>\u001b[0m in \u001b[0;36m<module>\u001b[1;34m()\u001b[0m\n\u001b[0;32m     18\u001b[0m         \u001b[1;32mfor\u001b[0m \u001b[0mi\u001b[0m\u001b[1;33m,\u001b[0m \u001b[0mresfile\u001b[0m \u001b[1;32min\u001b[0m \u001b[0menumerate\u001b[0m\u001b[1;33m(\u001b[0m\u001b[0mresfiles\u001b[0m\u001b[1;33m)\u001b[0m\u001b[1;33m:\u001b[0m\u001b[1;33m\u001b[0m\u001b[0m\n\u001b[0;32m     19\u001b[0m \u001b[1;33m\u001b[0m\u001b[0m\n\u001b[1;32m---> 20\u001b[1;33m             \u001b[0mdf\u001b[0m \u001b[1;33m=\u001b[0m \u001b[0mpd\u001b[0m\u001b[1;33m.\u001b[0m\u001b[0mread_csv\u001b[0m\u001b[1;33m(\u001b[0m\u001b[0mos\u001b[0m\u001b[1;33m.\u001b[0m\u001b[0mpath\u001b[0m\u001b[1;33m.\u001b[0m\u001b[0mjoin\u001b[0m\u001b[1;33m(\u001b[0m\u001b[1;34m'..'\u001b[0m\u001b[1;33m,\u001b[0m \u001b[0mresfile\u001b[0m\u001b[1;33m)\u001b[0m\u001b[1;33m,\u001b[0m \u001b[0mindex_col\u001b[0m\u001b[1;33m=\u001b[0m\u001b[1;36m0\u001b[0m\u001b[1;33m)\u001b[0m\u001b[1;33m\u001b[0m\u001b[0m\n\u001b[0m\u001b[0;32m     21\u001b[0m             \u001b[0mdf\u001b[0m\u001b[1;33m[\u001b[0m\u001b[1;34m'label'\u001b[0m\u001b[1;33m]\u001b[0m \u001b[1;33m=\u001b[0m \u001b[1;33m[\u001b[0m\u001b[1;36m1\u001b[0m \u001b[1;32mif\u001b[0m \u001b[0mc\u001b[0m \u001b[1;33m==\u001b[0m \u001b[1;34m'is_event'\u001b[0m \u001b[1;32melse\u001b[0m \u001b[1;36m0\u001b[0m \u001b[1;32mfor\u001b[0m \u001b[0mc\u001b[0m \u001b[1;32min\u001b[0m \u001b[0mdf\u001b[0m\u001b[1;33m[\u001b[0m\u001b[1;34m'class'\u001b[0m\u001b[1;33m]\u001b[0m\u001b[1;33m]\u001b[0m\u001b[1;33m\u001b[0m\u001b[0m\n\u001b[0;32m     22\u001b[0m             \u001b[0msplit_df\u001b[0m \u001b[1;33m=\u001b[0m \u001b[0mdf\u001b[0m\u001b[1;33m[\u001b[0m\u001b[0mdf\u001b[0m\u001b[1;33m[\u001b[0m\u001b[1;34m'split'\u001b[0m\u001b[1;33m]\u001b[0m\u001b[1;33m==\u001b[0m\u001b[0msplit\u001b[0m\u001b[1;33m]\u001b[0m\u001b[1;33m\u001b[0m\u001b[0m\n",
      "\u001b[1;32mC:\\ProgramData\\Anaconda3\\lib\\site-packages\\pandas\\io\\parsers.py\u001b[0m in \u001b[0;36mparser_f\u001b[1;34m(filepath_or_buffer, sep, delimiter, header, names, index_col, usecols, squeeze, prefix, mangle_dupe_cols, dtype, engine, converters, true_values, false_values, skipinitialspace, skiprows, nrows, na_values, keep_default_na, na_filter, verbose, skip_blank_lines, parse_dates, infer_datetime_format, keep_date_col, date_parser, dayfirst, iterator, chunksize, compression, thousands, decimal, lineterminator, quotechar, quoting, escapechar, comment, encoding, dialect, tupleize_cols, error_bad_lines, warn_bad_lines, skipfooter, doublequote, delim_whitespace, low_memory, memory_map, float_precision)\u001b[0m\n\u001b[0;32m    676\u001b[0m                     skip_blank_lines=skip_blank_lines)\n\u001b[0;32m    677\u001b[0m \u001b[1;33m\u001b[0m\u001b[0m\n\u001b[1;32m--> 678\u001b[1;33m         \u001b[1;32mreturn\u001b[0m \u001b[0m_read\u001b[0m\u001b[1;33m(\u001b[0m\u001b[0mfilepath_or_buffer\u001b[0m\u001b[1;33m,\u001b[0m \u001b[0mkwds\u001b[0m\u001b[1;33m)\u001b[0m\u001b[1;33m\u001b[0m\u001b[0m\n\u001b[0m\u001b[0;32m    679\u001b[0m \u001b[1;33m\u001b[0m\u001b[0m\n\u001b[0;32m    680\u001b[0m     \u001b[0mparser_f\u001b[0m\u001b[1;33m.\u001b[0m\u001b[0m__name__\u001b[0m \u001b[1;33m=\u001b[0m \u001b[0mname\u001b[0m\u001b[1;33m\u001b[0m\u001b[0m\n",
      "\u001b[1;32mC:\\ProgramData\\Anaconda3\\lib\\site-packages\\pandas\\io\\parsers.py\u001b[0m in \u001b[0;36m_read\u001b[1;34m(filepath_or_buffer, kwds)\u001b[0m\n\u001b[0;32m    438\u001b[0m \u001b[1;33m\u001b[0m\u001b[0m\n\u001b[0;32m    439\u001b[0m     \u001b[1;31m# Create the parser.\u001b[0m\u001b[1;33m\u001b[0m\u001b[1;33m\u001b[0m\u001b[0m\n\u001b[1;32m--> 440\u001b[1;33m     \u001b[0mparser\u001b[0m \u001b[1;33m=\u001b[0m \u001b[0mTextFileReader\u001b[0m\u001b[1;33m(\u001b[0m\u001b[0mfilepath_or_buffer\u001b[0m\u001b[1;33m,\u001b[0m \u001b[1;33m**\u001b[0m\u001b[0mkwds\u001b[0m\u001b[1;33m)\u001b[0m\u001b[1;33m\u001b[0m\u001b[0m\n\u001b[0m\u001b[0;32m    441\u001b[0m \u001b[1;33m\u001b[0m\u001b[0m\n\u001b[0;32m    442\u001b[0m     \u001b[1;32mif\u001b[0m \u001b[0mchunksize\u001b[0m \u001b[1;32mor\u001b[0m \u001b[0miterator\u001b[0m\u001b[1;33m:\u001b[0m\u001b[1;33m\u001b[0m\u001b[0m\n",
      "\u001b[1;32mC:\\ProgramData\\Anaconda3\\lib\\site-packages\\pandas\\io\\parsers.py\u001b[0m in \u001b[0;36m__init__\u001b[1;34m(self, f, engine, **kwds)\u001b[0m\n\u001b[0;32m    785\u001b[0m             \u001b[0mself\u001b[0m\u001b[1;33m.\u001b[0m\u001b[0moptions\u001b[0m\u001b[1;33m[\u001b[0m\u001b[1;34m'has_index_names'\u001b[0m\u001b[1;33m]\u001b[0m \u001b[1;33m=\u001b[0m \u001b[0mkwds\u001b[0m\u001b[1;33m[\u001b[0m\u001b[1;34m'has_index_names'\u001b[0m\u001b[1;33m]\u001b[0m\u001b[1;33m\u001b[0m\u001b[0m\n\u001b[0;32m    786\u001b[0m \u001b[1;33m\u001b[0m\u001b[0m\n\u001b[1;32m--> 787\u001b[1;33m         \u001b[0mself\u001b[0m\u001b[1;33m.\u001b[0m\u001b[0m_make_engine\u001b[0m\u001b[1;33m(\u001b[0m\u001b[0mself\u001b[0m\u001b[1;33m.\u001b[0m\u001b[0mengine\u001b[0m\u001b[1;33m)\u001b[0m\u001b[1;33m\u001b[0m\u001b[0m\n\u001b[0m\u001b[0;32m    788\u001b[0m \u001b[1;33m\u001b[0m\u001b[0m\n\u001b[0;32m    789\u001b[0m     \u001b[1;32mdef\u001b[0m \u001b[0mclose\u001b[0m\u001b[1;33m(\u001b[0m\u001b[0mself\u001b[0m\u001b[1;33m)\u001b[0m\u001b[1;33m:\u001b[0m\u001b[1;33m\u001b[0m\u001b[0m\n",
      "\u001b[1;32mC:\\ProgramData\\Anaconda3\\lib\\site-packages\\pandas\\io\\parsers.py\u001b[0m in \u001b[0;36m_make_engine\u001b[1;34m(self, engine)\u001b[0m\n\u001b[0;32m   1012\u001b[0m     \u001b[1;32mdef\u001b[0m \u001b[0m_make_engine\u001b[0m\u001b[1;33m(\u001b[0m\u001b[0mself\u001b[0m\u001b[1;33m,\u001b[0m \u001b[0mengine\u001b[0m\u001b[1;33m=\u001b[0m\u001b[1;34m'c'\u001b[0m\u001b[1;33m)\u001b[0m\u001b[1;33m:\u001b[0m\u001b[1;33m\u001b[0m\u001b[0m\n\u001b[0;32m   1013\u001b[0m         \u001b[1;32mif\u001b[0m \u001b[0mengine\u001b[0m \u001b[1;33m==\u001b[0m \u001b[1;34m'c'\u001b[0m\u001b[1;33m:\u001b[0m\u001b[1;33m\u001b[0m\u001b[0m\n\u001b[1;32m-> 1014\u001b[1;33m             \u001b[0mself\u001b[0m\u001b[1;33m.\u001b[0m\u001b[0m_engine\u001b[0m \u001b[1;33m=\u001b[0m \u001b[0mCParserWrapper\u001b[0m\u001b[1;33m(\u001b[0m\u001b[0mself\u001b[0m\u001b[1;33m.\u001b[0m\u001b[0mf\u001b[0m\u001b[1;33m,\u001b[0m \u001b[1;33m**\u001b[0m\u001b[0mself\u001b[0m\u001b[1;33m.\u001b[0m\u001b[0moptions\u001b[0m\u001b[1;33m)\u001b[0m\u001b[1;33m\u001b[0m\u001b[0m\n\u001b[0m\u001b[0;32m   1015\u001b[0m         \u001b[1;32melse\u001b[0m\u001b[1;33m:\u001b[0m\u001b[1;33m\u001b[0m\u001b[0m\n\u001b[0;32m   1016\u001b[0m             \u001b[1;32mif\u001b[0m \u001b[0mengine\u001b[0m \u001b[1;33m==\u001b[0m \u001b[1;34m'python'\u001b[0m\u001b[1;33m:\u001b[0m\u001b[1;33m\u001b[0m\u001b[0m\n",
      "\u001b[1;32mC:\\ProgramData\\Anaconda3\\lib\\site-packages\\pandas\\io\\parsers.py\u001b[0m in \u001b[0;36m__init__\u001b[1;34m(self, src, **kwds)\u001b[0m\n\u001b[0;32m   1706\u001b[0m         \u001b[0mkwds\u001b[0m\u001b[1;33m[\u001b[0m\u001b[1;34m'usecols'\u001b[0m\u001b[1;33m]\u001b[0m \u001b[1;33m=\u001b[0m \u001b[0mself\u001b[0m\u001b[1;33m.\u001b[0m\u001b[0musecols\u001b[0m\u001b[1;33m\u001b[0m\u001b[0m\n\u001b[0;32m   1707\u001b[0m \u001b[1;33m\u001b[0m\u001b[0m\n\u001b[1;32m-> 1708\u001b[1;33m         \u001b[0mself\u001b[0m\u001b[1;33m.\u001b[0m\u001b[0m_reader\u001b[0m \u001b[1;33m=\u001b[0m \u001b[0mparsers\u001b[0m\u001b[1;33m.\u001b[0m\u001b[0mTextReader\u001b[0m\u001b[1;33m(\u001b[0m\u001b[0msrc\u001b[0m\u001b[1;33m,\u001b[0m \u001b[1;33m**\u001b[0m\u001b[0mkwds\u001b[0m\u001b[1;33m)\u001b[0m\u001b[1;33m\u001b[0m\u001b[0m\n\u001b[0m\u001b[0;32m   1709\u001b[0m \u001b[1;33m\u001b[0m\u001b[0m\n\u001b[0;32m   1710\u001b[0m         \u001b[0mpassed_names\u001b[0m \u001b[1;33m=\u001b[0m \u001b[0mself\u001b[0m\u001b[1;33m.\u001b[0m\u001b[0mnames\u001b[0m \u001b[1;32mis\u001b[0m \u001b[1;32mNone\u001b[0m\u001b[1;33m\u001b[0m\u001b[0m\n",
      "\u001b[1;32mpandas\\_libs\\parsers.pyx\u001b[0m in \u001b[0;36mpandas._libs.parsers.TextReader.__cinit__\u001b[1;34m()\u001b[0m\n",
      "\u001b[1;32mpandas\\_libs\\parsers.pyx\u001b[0m in \u001b[0;36mpandas._libs.parsers.TextReader._setup_parser_source\u001b[1;34m()\u001b[0m\n",
      "\u001b[1;31mFileNotFoundError\u001b[0m: File b'..\\\\grouped-mean-bestepoch-bydrug-CB_8-AR-125_222_24_10_1e-06_256_32.csv' does not exist"
     ]
    },
    {
     "data": {
      "image/png": "[encoded data removed]",
      "text/plain": [
       "<Figure size 864x576 with 1 Axes>"
      ]
     },
     "metadata": {},
     "output_type": "display_data"
    }
   ],
   "source": [
    "for modeltype in ('bestepoch'):\n",
    "    resfiles = [\n",
    "        \"grouped-mean-bestepoch-bydrug-CB_8-AR-125_222_24_10_1e-06_256_32.csv\"\n",
    "    ]\n",
    "    colors = sns.color_palette(\"hls\", len(resfiles))\n",
    "\n",
    "    plt.figure(figsize=(12,8))\n",
    "    plotcounter = 1\n",
    "\n",
    "\n",
    "    for split in ('valid', 'test'):\n",
    "        plt.subplot(2, 2, plotcounter)\n",
    "        plotcounter += 1\n",
    "        plt.title(split)\n",
    "\n",
    "        for i, resfile in enumerate(resfiles):\n",
    "\n",
    "            df = pd.read_csv(os.path.join('..', resfile), index_col=0)\n",
    "            df['label'] = [1 if c == 'is_event' else 0 for c in df['class']]\n",
    "            split_df = df[df['split']==split]\n",
    "\n",
    "            prdata = ph.prdata(split_df['label'], split_df['Pred1'])\n",
    "            perfdata[(modeltype, split)]['prdata'].append(prdata)\n",
    "            \n",
    "            plt.plot(prdata['recall'], prdata['precision'], color=colors[i], \n",
    "                     label=f'{i}: AUC={prdata[\"pr_auc\"]:.2} F1={prdata[\"max_f1\"]:.2}'\n",
    "                    )\n",
    "            plt.plot([prdata['max_f1_recall']], [prdata['max_f1_precision']], '*', color=colors[i], markersize=12)\n",
    "            \n",
    "            if modeltype == 'final' and split == 'valid':\n",
    "                factor_labels.append(experiment['labels'][i])\n",
    "            \n",
    "            # Special processing for the ALL sections file\n",
    "            sections = []\n",
    "            if 'ALL' in resfile:\n",
    "                sections = ('AR', 'BW', 'WP')\n",
    "                groupname = 'ALL'\n",
    "            elif 'ARBW' in resfile:\n",
    "                sections = ('AR', 'BW')\n",
    "                groupname = 'ARBW'\n",
    "            \n",
    "            if len(sections) > 0:\n",
    "                for section in sections:\n",
    "                    section_df = split_df[split_df['section'] == section]\n",
    "                    section_prdata = ph.prdata(section_df['label'], section_df['Pred1'])\n",
    "                    perfdata[(modeltype, split)]['prdata'].append(section_prdata)\n",
    "                    if modeltype == 'final' and split == 'valid':\n",
    "                        factor_labels.append(f'{section}-{groupname}')\n",
    "\n",
    "\n",
    "        plt.xlabel('Recall')\n",
    "        plt.ylabel('Precision')\n",
    "        plt.legend()\n",
    "        sns.despine()\n",
    "\n",
    "    for split in ('valid', 'test'):\n",
    "        plt.subplot(2, 2, plotcounter)\n",
    "        plotcounter += 1\n",
    "        plt.title(split)\n",
    "\n",
    "        for i, resfile in enumerate(resfiles):\n",
    "\n",
    "            df = pd.read_csv(os.path.join('..', resfile), index_col=0)\n",
    "            df['label'] = [1 if c == 'is_event' else 0 for c in df['class']]\n",
    "            split_df = df[df['split']==split]\n",
    "\n",
    "            prdata = ph.prdata(split_df['label'], split_df['Pred1'])\n",
    "            rocdata = ph.rocdata(split_df['label'], split_df['Pred1'], prdata['max_f1_threshold'])\n",
    "            perfdata[(modeltype, split)]['rocdata'].append(rocdata)\n",
    "            \n",
    "            plt.plot(rocdata['fpr'], rocdata['tpr'], color=colors[i], \n",
    "                     label=f'{i}: AUC={rocdata[\"roc_auc\"]:.2}'\n",
    "                    )\n",
    "            plt.plot([rocdata['max_f1_fpr']], [rocdata['max_f1_tpr']], '*', color=colors[i], markersize=12)\n",
    "            \n",
    "            # Special processing for the ALL sections file\n",
    "            sections = []\n",
    "            if 'ALL' in resfile:\n",
    "                sections = ('AR', 'BW', 'WP')\n",
    "                groupname = 'ALL'\n",
    "            elif 'ARBW' in resfile:\n",
    "                sections = ('AR', 'BW')\n",
    "                groupname = 'ARBW'\n",
    "            \n",
    "            if len(sections) > 0:\n",
    "                for section in sections:\n",
    "                    section_df = split_df[split_df['section'] == section]\n",
    "                    section_rocdata = ph.rocdata(section_df['label'], section_df['Pred1'], prdata['max_f1_threshold'])\n",
    "                    perfdata[(modeltype, split)]['rocdata'].append(section_rocdata)\n",
    "\n",
    "        plt.xlabel('False Positive Rate')\n",
    "        plt.ylabel('True Positive Rate')\n",
    "        plt.legend()\n",
    "        sns.despine()\n",
    "\n",
    "    plt.subplot(2, 2, 2)\n",
    "    reflegend = f'Model:{modeltype}\\n{experiment[\"factor\"]}\\n' + '\\n'.join([f\"{i}: {s}\" for i, s in enumerate(experiment['labels'])])\n",
    "    plt.text(1.1, 1.0, reflegend, fontsize=13, verticalalignment='top')\n",
    "    #plt.suptitle(modeltype)\n",
    "    plt.tight_layout()\n",
    "    \n",
    "    plt.savefig(f'../figures/Experiment{experiment_id}-{modeltype}.pdf')"
   ]
  },
  {
   "cell_type": "code",
   "execution_count": 31,
   "metadata": {},
   "outputs": [
    {
     "name": "stdout",
     "output_type": "stream",
     "text": [
      "valid max f1 threshold: 2.553029060363769\n",
      "test max f1 threshold: 2.54717718064785\n"
     ]
    },
    {
     "data": {
      "image/png": "[encoded data removed]",
      "text/plain": [
       "<Figure size 432x288 with 2 Axes>"
      ]
     },
     "metadata": {},
     "output_type": "display_data"
    }
   ],
   "source": [
    "plotcounter = 1\n",
    "\n",
    "# precision recall curves\n",
    "\n",
    "for split in ('valid', 'test'):\n",
    "    plt.subplot(1, 2, plotcounter)\n",
    "    plotcounter += 1\n",
    "    plt.title(split)\n",
    "    \n",
    "    df = pd.read_csv(\"./results/grouped-mean-bestepoch-bydrug-CB_8-AR-125_222_24_10_1e-06_256_32.csv\", index_col=0)\n",
    "    \n",
    "    \n",
    "    df['label'] = [1 if c == 'is_event' else 0 for c in df['class']]\n",
    "    \n",
    "    split_df = df[df['split']==split]\n",
    "\n",
    "    prdata = ph.prdata(split_df['label'], split_df['Pred1'])\n",
    "    perfdata[(modeltype, split)]['prdata'].append(prdata)\n",
    "    \n",
    "    plt.plot(prdata['recall'], prdata['precision'], color=colors[i], \n",
    "             label=f'{i}: AUC={prdata[\"pr_auc\"]:.2} F1={prdata[\"max_f1\"]:.2}'\n",
    "            )\n",
    "    plt.plot([prdata['max_f1_recall']], [prdata['max_f1_precision']], '*', color=colors[i], markersize=12)\n",
    "    \n",
    "    if modeltype == 'final' and split == 'valid':\n",
    "        factor_labels.append(experiment['labels'][i])\n",
    "\n",
    "    plt.xlabel('Recall')\n",
    "    plt.ylabel('Precision')\n",
    "    plt.legend()\n",
    "    sns.despine()\n",
    "    \n",
    "    print(split, f\"max f1 threshold:\", prdata[\"max_f1_threshold\"])\n",
    "\n"
   ]
  },
  {
   "cell_type": "code",
   "execution_count": 29,
   "metadata": {},
   "outputs": [
    {
     "name": "stdout",
     "output_type": "stream",
     "text": [
      "valid 2.553029060363769\n",
      "test 2.54717718064785\n"
     ]
    },
    {
     "data": {
      "image/png": "[encoded data removed]",
      "text/plain": [
       "<Figure size 432x288 with 2 Axes>"
      ]
     },
     "metadata": {},
     "output_type": "display_data"
    }
   ],
   "source": [
    "plotcounter = 1\n",
    "\n",
    "# AUC ROC curves\n",
    "for split in ('valid', 'test'):\n",
    "    plt.subplot(1, 2, plotcounter)\n",
    "    plotcounter += 1\n",
    "    plt.title(split)\n",
    "\n",
    "    df = pd.read_csv(\"./results/grouped-mean-bestepoch-bydrug-CB_8-AR-125_222_24_10_1e-06_256_32.csv\", index_col=0)\n",
    "\n",
    "    df['label'] = [1 if c == 'is_event' else 0 for c in df['class']]\n",
    "    split_df = df[df['split']==split]\n",
    "\n",
    "    prdata = ph.prdata(split_df['label'], split_df['Pred1'])\n",
    "    rocdata = ph.rocdata(split_df['label'], split_df['Pred1'], prdata['max_f1_threshold'])\n",
    "    perfdata[(modeltype, split)]['rocdata'].append(rocdata)\n",
    "    \n",
    "    plt.plot(rocdata['fpr'], rocdata['tpr'], color=colors[i], \n",
    "             label=f'{i}: AUC={rocdata[\"roc_auc\"]:.2}'\n",
    "            )\n",
    "    plt.plot([rocdata['max_f1_fpr']], [rocdata['max_f1_tpr']], '*', color=colors[i], markersize=12)\n",
    "        \n",
    "    plt.xlabel('False Positive Rate')\n",
    "    plt.ylabel('True Positive Rate')\n",
    "    plt.legend()\n",
    "    sns.despine()\n",
    "    \n",
    "    print(split, prdata[\"max_f1_threshold\"])"
   ]
  },
  {
   "cell_type": "code",
   "execution_count": 25,
   "metadata": {},
   "outputs": [
    {
     "data": {
      "text/plain": [
       "{'precision': array([0.43256043, 0.51886253, 0.51893669, ..., 1.        , 1.        ,\n",
       "        1.        ]),\n",
       " 'recall': array([1.00000000e+00, 8.28239051e-01, 8.28239051e-01, ...,\n",
       "        4.56204380e-04, 2.28102190e-04, 0.00000000e+00]),\n",
       " 'max_f1': 0.8409118615140803,\n",
       " 'max_f1_threshold': 2.54717718064785,\n",
       " 'max_f1_precision': 0.9031159989526054,\n",
       " 'max_f1_recall': 0.7867244525547445,\n",
       " 'pr_auc': 0.8841328516713092}"
      ]
     },
     "execution_count": 25,
     "metadata": {},
     "output_type": "execute_result"
    }
   ],
   "source": [
    "prdata"
   ]
  },
  {
   "cell_type": "code",
   "execution_count": null,
   "metadata": {},
   "outputs": [],
   "source": []
  }
 ],
 "metadata": {
  "kernelspec": {
   "display_name": "Python 3",
   "language": "python",
   "name": "python3"
  },
  "language_info": {
   "codemirror_mode": {
    "name": "ipython",
    "version": 3
   },
   "file_extension": ".py",
   "mimetype": "text/x-python",
   "name": "python",
   "nbconvert_exporter": "python",
   "pygments_lexer": "ipython3",
   "version": "3.6.5"
  }
 },
 "nbformat": 4,
 "nbformat_minor": 2
}
